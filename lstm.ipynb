{
 "cells": [
  {
   "cell_type": "markdown",
   "id": "72d66231-8999-4cda-9f0f-990ee6e8af13",
   "metadata": {},
   "source": [
    "# Long Short Term Memories"
   ]
  },
  {
   "cell_type": "markdown",
   "id": "dde74379-ee4a-42a9-9c36-0375debd2e7e",
   "metadata": {},
   "source": [
    "## RNN PROBLEMS\n",
    "\n",
    "Gradient Vanishing and Exploting\n",
    "\n",
    "![](https://miro.medium.com/v2/resize:fit:960/format:webp/0*HKVo_MahpcuPs2xi.gif)\n"
   ]
  },
  {
   "cell_type": "markdown",
   "id": "ed6f5993-fb1b-400d-9f3b-d0c820ea24a1",
   "metadata": {},
   "source": [
    "# Architecture\n",
    "\n",
    "<img src=\"https://miro.medium.com/v2/resize:fit:1400/format:webp/1*J5W8FrASMi93Z81NlAui4w.png\" width='500'>\n",
    "\n",
    "<img src=\"https://miro.medium.com/v2/resize:fit:1400/format:webp/0*iuwl6wtASc1SL5R3.png\" width='500'>\n"
   ]
  },
  {
   "cell_type": "markdown",
   "id": "886b9f7f-a667-4632-bb50-018517d1df88",
   "metadata": {},
   "source": [
    "## Process\n",
    "\n",
    "![](https://miro.medium.com/v2/resize:fit:1032/format:webp/0*O_TqfQ4537oM4MH0.gif)"
   ]
  },
  {
   "cell_type": "markdown",
   "id": "ea03af74-fba0-41ce-a08e-6c1bfd1a0821",
   "metadata": {},
   "source": [
    "# Components\n",
    "\n",
    "<img src=\"https://miro.medium.com/v2/resize:fit:1400/format:webp/1*APrZtnag0aXGztE9zl4iYg.png\" width=\"700\" />\n",
    "\n",
    "\n",
    "## 1. Cell State (Long Term) or Memory Cell\n",
    "<img src=\"https://miro.medium.com/v2/resize:fit:1400/format:webp/0*sxh8y9g5BaBQ-7Ym.png\" width=\"700\" />\n",
    "\n"
   ]
  },
  {
   "cell_type": "markdown",
   "id": "4bb9ebe3-d8c8-43d7-876a-ae03d26a5b63",
   "metadata": {},
   "source": [
    "*\"Cell State control what to remember, forget and update based on the input. It forgets old info by multiplyng with vvalue like 0(forget), 1(keep), -1(inverse), then adds new info using addition. By this model can keep only usefull past info and add ijust important new info.\"*\n",
    "\n",
    "---\n",
    "\n",
    "## 2. Stage 1 - Forget Gate\n",
    "\n",
    "<img src=\"https://miro.medium.com/v2/resize:fit:1400/format:webp/0*7vRvYNf5sPiBihko.png\" width=\"700\" />\n",
    "\n"
   ]
  },
  {
   "cell_type": "markdown",
   "id": "be0855ae-b72e-42a8-8692-5de01b578268",
   "metadata": {},
   "source": [
    "*\"Forget gate will break what information, need to be forgetten form cell state (lt)\"*\n",
    "\n",
    "How?. \n",
    "\n",
    "1. Input, will take two input :\n",
    "- h(t-1) : Output from previous timestamp(t-1), last information from lstm\n",
    "\n",
    "- x(t) : latest input sequence (t),\n",
    "\n",
    "2. Sigmoid :\n",
    "- Transform value to range 0 - 1.\n",
    "- 1 -> store that information\n",
    "- 0 -> forget that information\n",
    "\n",
    "Ex. \n",
    "\n",
    "1. Input\n",
    "- h(t-1) = [0.2, 0.4]\n",
    "- x(t) = [0.1, 0.5]\n",
    "\n",
    "2. Sigmoid\n",
    "- ft = [0.8, 0.3]\n",
    "\n",
    "3. Multiplication with Ct\n",
    "- considering this input and this t context, previous value is important or not anymore\n",
    "\n",
    "Meaning first informtion will be remember, and else will be forgetten. \n",
    "\n",
    "---\n",
    "\n",
    "## 3. Stage 2 - Input Gate\n",
    "\n",
    "<img src=\"https://miro.medium.com/v2/resize:fit:1400/format:webp/0*H-lfbobwe1alYC1M.png\" width=\"700\" />\n",
    "\n",
    "<img src=\"https://miro.medium.com/v2/resize:fit:1400/format:webp/0*o4kje-yMqCM9MynI.png\" width=\"700\" />"
   ]
  },
  {
   "cell_type": "markdown",
   "id": "2a688c84-5bd6-4427-9d6d-b0c5540a5b67",
   "metadata": {},
   "source": [
    "*\"Input Gate decide what new information need to be remembered, main goal is to decide this inew information will be store or not\"*\n",
    "\n",
    "How?.\n",
    "\n",
    "1. Sigmoid (it)\n",
    "- same, sigmoid choose what valee need to be updated to cell state to remembered.\n",
    "- 1 -> remember this information\n",
    "- 0 -> forget this information\n",
    "\n",
    "2. Tanh activation function (ct)\n",
    "- will produce new candidate value, that we need to put it to cell state (memory).\n",
    "- tanh will range from -1 - 1. same decide what value that is important or how big changes need to be put in into memory.\n",
    "- -1 -> add to memory\n",
    "- 0 -> Netral\n",
    "- -1 -> delete from memory\n",
    "\n",
    "3. Adding two output function\n",
    "- Combining it and ct, will produce new value that is will be add to memory.\n",
    "- tanh is candidate value, and sigmoid is do we need to add that?.\n",
    "- sigmoid = 1, tanh = 1 -> add everything\n",
    "- sigmoid = 0, tanh = 1 -> dont add, even its a candidate to be considered\n",
    "- sigmoid = 0.5, tanh = 1 -> add half\n",
    "\n",
    "4. Change the cell state (memory)\n",
    "- forget gate + input gate.\n",
    "- Simply, new memory or cell state is the multiplication that is combination between what need to be forgetten an what need to be updated.\n",
    "- forget gate is what need to be delete from previous value t-1 considering it context to this input t.\n",
    "- input gate is there is a new value to be considered to be remembered\n",
    "- addition both is delete not important value in this time stamp context, and add new important value taht is important to be remembered to this time stamp context.\n",
    "\n",
    "Forget Gate vs Input Gate \n",
    "\n",
    "- Forget gate will deciding \"What part from previous sequences didnt need to be considered anymore\"\n",
    "\n",
    "- Input Gate will deciding \"What part from new sequence need to be considered to remembered.\"\n",
    "\n",
    "---\n",
    "\n",
    "\n",
    "## 4. Stage 3 - Output Gate\n",
    "\n",
    "\n",
    "<img src=\"https://miro.medium.com/v2/resize:fit:1400/format:webp/0*1m5r8C2eRYvQKrj8.png\" width=\"700\" />\n"
   ]
  },
  {
   "cell_type": "markdown",
   "id": "d81c58e5-38dd-4f10-b5e5-eb3a0245a364",
   "metadata": {},
   "source": [
    "*\"Deciding all info considered in long term memory or cell state, what we want to output now to give next sequence step\"*\n",
    "\n",
    "How?.\n",
    "\n",
    "1. Sigmoid layer\n",
    "- Probability or score to consider out (1) or not (0).\n",
    "- context form this t stampt considering it relationship to next sequence t+1 stamp.\n",
    "\n",
    "2. tanh activation function\n",
    "- deciding the action to add, not or not doing anything.\n",
    "\n",
    "3. final output h(t) - short term memory = y prediction\n",
    "- ht is not just output for now, but can considering next value to be considered or even previos value to be considered, all based on how it fit the context or not, weather now or previous, it will tell the relationship between seqeunce.\n"
   ]
  },
  {
   "cell_type": "markdown",
   "id": "28e7ab87-c8db-4078-91b8-ab9438b318e4",
   "metadata": {},
   "source": [
    "### RECAP \n",
    "\n",
    "\n",
    "misal kita punya cell state yang bawa nilai value dari sequnce terakhir, nah abis itu dia bakal dikalikan dengan forget gate, yang mana forget gate itu bakalan menentukan seberapa penting informasi sebelumnya di konteks sequence baru ini, dengan considerin input baru, dan hasil input fungsi aktivasi untuk dapetin probabilitas nyaa, nah perkalian antara nilai probabilitas sama cell state sebelumnya yang nentuin value mana yang yang ada di cell state yang harus dibuang.\n",
    "\n",
    "selanjutnya input gate, yang simplenya memutuskan apakah input baru sequence sekarang tu perlu dimasukin apa engga, nah caranya keren juga nih logikanya, pake tanh untuk nentuin nilai mana yang masok, dan pake sigmoid untuk nentuin berapa persen nilai yang mau masok itu perlu dimasukin apa engga, makanya dilakukan perkalian disini. naahhhh karena hasil input gate itu ngejelasin nilai baru yang harus ditambkan dan forget gate ngejelasin nilai mana yang harus dihapus. penjumlahan keduanya simple nya bakalan ngupdate cell state atau memori untuk simpen yang penting, yang masuk dengan konteks, dan buang yang ga penting, yang udah ga masuk konteks lagi, atau yang ga ada hubungan lagi. nah inilah cara kita untuk nentuin hubungan antara input sequence.\n",
    "\n",
    "terakhir output gate, output gate ini bakalan keluarin nilai short term baru, yang dipake di sequence selanjutnya untuk considering atau melakukan perhitungan tadi lagi dengan consider input sekarang supaya dapet konteks sekarang. nah nilainya itu adalah perkalian fungsi sigmoid dari output gate sebelumnya untuk nentuin apakah ini layak dilanjutin apa engga, dengan pengaruh dari tanh nya cell state, cell state terakhir kan isinya penting ditambah ga penting diibuang, pas di tanh kan kita bisa memutuskan bagian mana dari memory yang bakal jadi output. nah perkalian antara long term memory sama sort term memory ini bakalan jadi nilai baru untuk short term memory.\n",
    "\n",
    "kalo salah plis banget bilang yaa, jangan ada bias atau kesalah pahaman, jangan ada rahasia di balik kita"
   ]
  },
  {
   "cell_type": "code",
   "execution_count": null,
   "id": "4926989c-666f-4f04-aa72-855d05856250",
   "metadata": {},
   "outputs": [],
   "source": []
  }
 ],
 "metadata": {
  "kernelspec": {
   "display_name": "Python 3 (ipykernel)",
   "language": "python",
   "name": "python3"
  },
  "language_info": {
   "codemirror_mode": {
    "name": "ipython",
    "version": 3
   },
   "file_extension": ".py",
   "mimetype": "text/x-python",
   "name": "python",
   "nbconvert_exporter": "python",
   "pygments_lexer": "ipython3",
   "version": "3.12.3"
  }
 },
 "nbformat": 4,
 "nbformat_minor": 5
}
